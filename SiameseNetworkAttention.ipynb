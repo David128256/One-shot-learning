{
 "cells": [
  {
   "cell_type": "code",
   "execution_count": 1,
   "metadata": {},
   "outputs": [],
   "source": [
    "import torch\n",
    "import torch.nn as nn\n",
    "import os\n",
    "import numpy as np\n",
    "from torch.utils.data import DataLoader, Dataset\n",
    "from torchvision import transforms, utils, models\n",
    "from torch.nn import functional as F\n",
    "from torch.autograd import Variable\n",
    "from tensorboardX import SummaryWriter\n",
    "from tqdm import trange, tqdm\n",
    "from PIL import Image\n",
    "import torch.utils.model_zoo as model_zoo\n",
    "import pandas as pd\n",
    "import bcolz\n",
    "import pickle"
   ]
  },
  {
   "cell_type": "code",
   "execution_count": 2,
   "metadata": {},
   "outputs": [],
   "source": [
    "root_dir = 'tiny-imagenet-200/train/'\n",
    "writer = SummaryWriter()\n",
    "batch_size = 128\n",
    "np.random.seed(42)"
   ]
  },
  {
   "cell_type": "code",
   "execution_count": 3,
   "metadata": {},
   "outputs": [],
   "source": [
    "with open('tiny-imagenet-200/words.txt') as file:\n",
    "    a = file.readlines()\n",
    "a = [i[:-1].split('\\t') for i in a]\n",
    "clss = [i[0] for i in a]\n",
    "a = [i[1].replace(',', '').split() for i in a]"
   ]
  },
  {
   "cell_type": "code",
   "execution_count": 4,
   "metadata": {},
   "outputs": [],
   "source": [
    "words = []\n",
    "idx = 0\n",
    "word2idx = {}\n",
    "vectors = bcolz.carray(np.zeros(1), rootdir=f'glove.6B/6B.50.dat', mode='w')\n",
    "\n",
    "with open(f'glove.6B/glove.6B.50d.txt', 'rb') as f:\n",
    "    for l in f:\n",
    "        line = l.decode().split()\n",
    "        word = line[0]\n",
    "        words.append(word)\n",
    "        word2idx[word] = idx\n",
    "        idx += 1\n",
    "        vect = np.array(line[1:]).astype(np.float)\n",
    "        vectors.append(vect)\n",
    "    \n",
    "vectors = bcolz.carray(vectors[1:].reshape((400001, 50)), rootdir=f'glove.6B/6B.50.dat', mode='w')\n",
    "vectors.flush()\n",
    "pickle.dump(words, open(f'glove.6B/6B.50_words.pkl', 'wb'))\n",
    "pickle.dump(word2idx, open(f'glove.6B/6B.50_idx.pkl', 'wb'))"
   ]
  },
  {
   "cell_type": "code",
   "execution_count": 5,
   "metadata": {},
   "outputs": [],
   "source": [
    "vectors = bcolz.open(f'glove.6B/6B.50.dat')[:]\n",
    "words = pickle.load(open(f'glove.6B/6B.50_words.pkl', 'rb'))\n",
    "word2idx = pickle.load(open(f'glove.6B/6B.50_idx.pkl', 'rb'))\n",
    "\n",
    "glove = {w: vectors[word2idx[w]] for w in words}"
   ]
  },
  {
   "cell_type": "code",
   "execution_count": 6,
   "metadata": {},
   "outputs": [
    {
     "name": "stderr",
     "output_type": "stream",
     "text": [
      "/home/david/.local/lib/python3.6/site-packages/numpy/core/fromnumeric.py:2957: RuntimeWarning: Mean of empty slice.\n",
      "  out=out, **kwargs)\n",
      "/home/david/.local/lib/python3.6/site-packages/numpy/core/_methods.py:80: RuntimeWarning: invalid value encountered in double_scalars\n",
      "  ret = ret.dtype.type(ret / rcount)\n"
     ]
    }
   ],
   "source": [
    "a = [[glove[j] for j in i if j in glove] for i in a]\n",
    "a = [np.mean(i, axis = 0) for i in a]\n",
    "names = {}\n",
    "for i in range(len(clss)):\n",
    "    names[clss[i]] = a[i]"
   ]
  },
  {
   "cell_type": "code",
   "execution_count": 7,
   "metadata": {},
   "outputs": [],
   "source": [
    "classes = os.listdir(root_dir)\n",
    "classes = [i for i in classes if not type(names[i]) == np.float64]\n",
    "test_classes = np.random.choice(classes, size = 20, replace = False)\n",
    "classes = [i for i in classes if i not in test_classes]\n",
    "att = 1\n",
    "def fin_dir(cl):\n",
    "    return root_dir + cl + '/images/'"
   ]
  },
  {
   "cell_type": "code",
   "execution_count": 8,
   "metadata": {},
   "outputs": [],
   "source": [
    "class SiameseNetwork(nn.Module):\n",
    "    def __init__(self, classes_n):\n",
    "        super(SiameseNetwork, self).__init__()\n",
    "        self.cnn = nn.Sequential(\n",
    "            nn.Conv2d(3, 64, 3, 1, 1),\n",
    "            nn.BatchNorm2d(64),\n",
    "            nn.ReLU(),\n",
    "            nn.MaxPool2d(2),\n",
    "            nn.Conv2d(64, 64, 3, 1, 1),\n",
    "            nn.BatchNorm2d(64),\n",
    "            nn.ReLU(),\n",
    "            nn.MaxPool2d(2),\n",
    "            nn.Conv2d(64, 128, 3, 1, 1),\n",
    "            nn.BatchNorm2d(128),\n",
    "            nn.ReLU(),\n",
    "            nn.MaxPool2d(2),\n",
    "            nn.Conv2d(128, 128, 3, 1, 1),\n",
    "            nn.BatchNorm2d(128),\n",
    "            nn.ReLU())\n",
    "        self.size = 128 * 9\n",
    "        self.att = nn.Linear(50, 128)\n",
    "        self.softmax = nn.Softmax()\n",
    "        \n",
    "        self.fc = nn.Sequential(\n",
    "            nn.Linear(2 * self.size + 1, 128),\n",
    "            nn.Sigmoid(),\n",
    "            nn.Linear(128, 1))\n",
    "        \n",
    "        self.dist = nn.CosineSimilarity()\n",
    "        \n",
    "    def forward_once(self, x):\n",
    "        output = self.cnn(x)\n",
    "        output = output.view(-1, 128, 9)\n",
    "        return output\n",
    "    \n",
    "    def forward(self, input1, input2, name):\n",
    "        out1 = self.forward_once(input1)\n",
    "        out2 = self.forward_once(input2)\n",
    "        name = self.att(name)\n",
    "        att_score1 = self.softmax(torch.bmm(name.unsqueeze(1), out1))\n",
    "        att_score2 = self.softmax(torch.bmm(name.unsqueeze(1), out2))\n",
    "        out1 = (out1 * att_score1).view(-1, self.size)\n",
    "        out2 = (out2 * att_score2).view(-1, self.size)\n",
    "        out = torch.cat([torch.abs(out1 - out2), (out1 - out2) ** 2, self.dist(out1, out2).view(-1, 1)], dim = 1)\n",
    "        out = self.fc(out)\n",
    "        return out\n",
    "    \n",
    "    def forward_one_shot(self, x, support_set, names):\n",
    "        return torch.stack([self.forward(x, support_set[:, i], names[:, i]) for i in range(5)])"
   ]
  },
  {
   "cell_type": "code",
   "execution_count": 9,
   "metadata": {},
   "outputs": [],
   "source": [
    "class ImageDataset(Dataset):\n",
    "    def __init__(self, images):\n",
    "        self.images = images\n",
    "        self.n = len(images)\n",
    "        self.cur_class = 0\n",
    "        self.cur_img = 0\n",
    "        self.size = 0\n",
    "        for i in images:\n",
    "            self.size += len(i)\n",
    "        \n",
    "    def __len__(self):\n",
    "        return self.size\n",
    "        \n",
    "    def __getitem__(self, idx):\n",
    "        class1 = self.cur_class\n",
    "        if np.random.uniform() < 0.5:\n",
    "            class2 = np.random.randint(0, self.n)\n",
    "            while class2 == class1:\n",
    "                class2 = np.random.randint(0, self.n)\n",
    "            res = 0\n",
    "        else:\n",
    "            class2 = class1\n",
    "            res = 1\n",
    "        \n",
    "        img1 = self.images[class1][self.cur_img]\n",
    "        img2 = self.images[class2][np.random.randint(0, high = len(self.images[class2]))]\n",
    "        self.cur_img += 1\n",
    "        if self.cur_img >= len(self.images[self.cur_class]):\n",
    "            self.cur_img = 0\n",
    "            self.cur_class = (self.cur_class + 1) % self.n\n",
    "        \n",
    "        sample = {'img1' : torch.from_numpy(img1), 'img2' : torch.from_numpy(img2), 'res' : res, 'class_name' : torch.Tensor(names[classes[class1]])}\n",
    "        return sample"
   ]
  },
  {
   "cell_type": "code",
   "execution_count": 10,
   "metadata": {},
   "outputs": [],
   "source": [
    "class TestDataset(Dataset):\n",
    "    def __init__(self, images, classes):\n",
    "        self.images = images\n",
    "        self.n = len(classes)\n",
    "        self.cur_class = 0\n",
    "        self.cur_img = 0\n",
    "        self.size = 0\n",
    "        self.classes = classes\n",
    "        for i in images:\n",
    "            self.size += len(i)\n",
    "        \n",
    "    def __len__(self):\n",
    "        return self.size\n",
    "        \n",
    "    def __getitem__(self, idx):\n",
    "        img1 = self.images[self.cur_class][self.cur_img]\n",
    "        ind = np.random.randint(0, self.n, size = 5)\n",
    "        if not self.cur_class in ind:\n",
    "            res = np.random.randint(0, 5)\n",
    "            ind[res] = self.cur_class\n",
    "        else:\n",
    "            res = np.where(ind == self.cur_class)[0][0]\n",
    "        class_names = [self.classes[i] for i in ind]\n",
    "        sup = np.stack([self.images[a][np.random.randint(0, len(self.images[a]))] for a in ind])\n",
    "        self.cur_img += 1\n",
    "        if self.cur_img >= len(self.images[self.cur_class]):\n",
    "            self.cur_img = 0\n",
    "            self.cur_class = (self.cur_class + 1) % self.n\n",
    "        sample = {'img' : torch.from_numpy(img1.astype('float32')), 'res' : int(res), 'support_set': sup, 'class_names' : torch.Tensor([names[i] for i in class_names])}\n",
    "        return sample"
   ]
  },
  {
   "cell_type": "code",
   "execution_count": 11,
   "metadata": {},
   "outputs": [
    {
     "name": "stderr",
     "output_type": "stream",
     "text": [
      "100%|██████████| 177/177 [00:18<00:00,  9.54it/s]\n"
     ]
    }
   ],
   "source": [
    "images = []\n",
    "for cl in tqdm(classes):\n",
    "    images.append([])\n",
    "    for img_name in os.listdir(fin_dir(cl)):\n",
    "        img = np.array(Image.open(fin_dir(cl) + img_name).resize((28, 28)), dtype = 'float32') / 255\n",
    "        if not len(img.shape) == 3:\n",
    "            img = np.stack([img, img, img])\n",
    "        else:\n",
    "            img = img.transpose((2, 0, 1))\n",
    "        images[-1].append(img)"
   ]
  },
  {
   "cell_type": "code",
   "execution_count": 12,
   "metadata": {},
   "outputs": [
    {
     "name": "stderr",
     "output_type": "stream",
     "text": [
      "100%|██████████| 20/20 [00:02<00:00,  9.56it/s]\n"
     ]
    }
   ],
   "source": [
    "one_shot_images = []\n",
    "for cl in tqdm(test_classes):\n",
    "    one_shot_images.append([])\n",
    "    for img_name in os.listdir(fin_dir(cl)):\n",
    "        img = np.array(Image.open(fin_dir(cl) + img_name).resize((28, 28)), dtype = 'float32') / 255\n",
    "        if not len(img.shape) == 3:\n",
    "            img = np.stack([img, img, img])\n",
    "        else:\n",
    "            img = img.transpose((2, 0, 1))\n",
    "        one_shot_images[-1].append(img)"
   ]
  },
  {
   "cell_type": "code",
   "execution_count": 13,
   "metadata": {},
   "outputs": [],
   "source": [
    "model = SiameseNetwork(len(classes))\n",
    "model.cuda()\n",
    "coef = 0.0"
   ]
  },
  {
   "cell_type": "code",
   "execution_count": null,
   "metadata": {},
   "outputs": [],
   "source": [
    "dataset = ImageDataset(images)\n",
    "dataloader = DataLoader(dataset, batch_size = batch_size)\n",
    "one_shot_dataset = TestDataset(one_shot_images, test_classes)\n",
    "one_shot_dataloader = DataLoader(one_shot_dataset, batch_size = batch_size)"
   ]
  },
  {
   "cell_type": "code",
   "execution_count": null,
   "metadata": {},
   "outputs": [
    {
     "name": "stderr",
     "output_type": "stream",
     "text": [
      "  0%|          | 0/800 [00:00<?, ?it/s]/home/david/anaconda3/lib/python3.6/site-packages/ipykernel_launcher.py:40: UserWarning: Implicit dimension choice for softmax has been deprecated. Change the call to include dim=X as an argument.\n",
      "/home/david/anaconda3/lib/python3.6/site-packages/ipykernel_launcher.py:41: UserWarning: Implicit dimension choice for softmax has been deprecated. Change the call to include dim=X as an argument.\n",
      " 45%|████▌     | 361/800 [1:30:12<1:49:42, 14.99s/it]"
     ]
    }
   ],
   "source": [
    "sgd = torch.optim.Adam(model.parameters(), weight_decay = coef)\n",
    "dist = nn.CosineSimilarity()\n",
    "criterion = nn.BCEWithLogitsLoss()\n",
    "sigm = nn.Sigmoid()\n",
    "for i in trange(800):\n",
    "    model.train()\n",
    "    sum_loss = 0\n",
    "    acc = 0\n",
    "    for j, batch in enumerate(dataloader):\n",
    "        target = Variable(batch['res']).float().cuda()\n",
    "        y_pred = model.forward(Variable(batch['img1']).cuda(), Variable(batch['img2']).cuda(), Variable(batch['class_name']).cuda())\n",
    "        y_pred = y_pred.view(-1)\n",
    "        x = torch.round(sigm(y_pred))\n",
    "        acc += torch.mean((x == target).float())\n",
    "        loss = criterion(y_pred, target)\n",
    "        sum_loss += loss\n",
    "        sgd.zero_grad()\n",
    "        loss.backward()\n",
    "        sgd.step()\n",
    "    writer.add_scalar('cross entropy', sum_loss / len(dataloader), i)\n",
    "    writer.add_scalar('train accuracy', acc / len(dataloader), i)\n",
    "    model.eval()\n",
    "    correct = 0\n",
    "    one_shot_acc = 0\n",
    "    for batch in one_shot_dataloader:\n",
    "        target = Variable(batch['res']).cuda()\n",
    "        img = batch['img']\n",
    "        support_set = batch['support_set']\n",
    "        y_pred = model.forward_one_shot(Variable(img).cuda(), Variable(support_set).cuda(), Variable(batch['class_names']).cuda())\n",
    "        _, x = torch.max(y_pred, dim = 0)\n",
    "        one_shot_acc += torch.mean((x.view(-1) == target).float())\n",
    "    writer.add_scalar('one shot accuracy', one_shot_acc / len(one_shot_dataloader), i)"
   ]
  },
  {
   "cell_type": "code",
   "execution_count": null,
   "metadata": {},
   "outputs": [],
   "source": [
    "torch.save(model, 'SiameseNet')"
   ]
  }
 ],
 "metadata": {
  "kernelspec": {
   "display_name": "Python 3",
   "language": "python",
   "name": "python3"
  },
  "language_info": {
   "codemirror_mode": {
    "name": "ipython",
    "version": 3
   },
   "file_extension": ".py",
   "mimetype": "text/x-python",
   "name": "python",
   "nbconvert_exporter": "python",
   "pygments_lexer": "ipython3",
   "version": "3.6.4"
  }
 },
 "nbformat": 4,
 "nbformat_minor": 2
}
