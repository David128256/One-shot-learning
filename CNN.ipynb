{
 "cells": [
  {
   "cell_type": "code",
   "execution_count": 1,
   "metadata": {},
   "outputs": [],
   "source": [
    "import torch\n",
    "import torch.nn as nn\n",
    "import os\n",
    "import numpy as np\n",
    "from torch.utils.data import DataLoader, Dataset\n",
    "from torchvision import transforms, utils\n",
    "from skimage import io, transform\n",
    "from torch.nn import functional as F\n",
    "from torch.autograd import Variable\n",
    "from tensorboardX import SummaryWriter"
   ]
  },
  {
   "cell_type": "code",
   "execution_count": 2,
   "metadata": {},
   "outputs": [],
   "source": [
    "root_dir = 'tiny-imagenet-200/train/'\n",
    "writer = SummaryWriter()\n",
    "batch_size = 32"
   ]
  },
  {
   "cell_type": "code",
   "execution_count": 3,
   "metadata": {},
   "outputs": [],
   "source": [
    "class CNN(nn.Module):\n",
    "    def __init__(self, classes_n):\n",
    "        super(CNN, self).__init__()\n",
    "        self.cnn = nn.Sequential(\n",
    "            nn.Conv2d(3, 128, kernel_size=3, padding=1),\n",
    "            nn.ReLU(),\n",
    "            nn.Conv2d(128, 128, kernel_size=3, padding=1),\n",
    "            nn.ReLU(),\n",
    "            nn.MaxPool2d(2),\n",
    "            nn.Conv2d(128, 128, kernel_size=3, padding=1),\n",
    "            nn.ReLU(),\n",
    "            nn.Conv2d(128, 128, kernel_size=3, padding=1),\n",
    "            nn.ReLU(),\n",
    "            nn.MaxPool2d(2),\n",
    "            nn.Conv2d(128, 128, kernel_size=3, padding=1),\n",
    "            nn.ReLU(),\n",
    "            nn.MaxPool2d(2),\n",
    "            nn.Conv2d(128, 128, kernel_size=3, padding=1),\n",
    "            nn.ReLU())\n",
    "\n",
    "        self.fc1 = nn.Sequential(\n",
    "            nn.Linear(128 * 8 * 8, 512),\n",
    "            nn.ReLU(),\n",
    "            nn.Linear(512, 512),\n",
    "            nn.ReLU(),\n",
    "            nn.Linear(512, classes_n))\n",
    "    \n",
    "    def forward(self, x):\n",
    "        output = self.cnn(x)\n",
    "        output = output.view(output.size()[0], -1)\n",
    "        output = self.fc1(output)\n",
    "        return output"
   ]
  },
  {
   "cell_type": "code",
   "execution_count": 4,
   "metadata": {},
   "outputs": [],
   "source": [
    "classes = os.listdir(root_dir)\n",
    "test_classes = np.random.choice(classes, size = int(0.99 * len(classes)), replace = False)\n",
    "classes = [i for i in classes if i not in test_classes]"
   ]
  },
  {
   "cell_type": "code",
   "execution_count": 5,
   "metadata": {},
   "outputs": [
    {
     "data": {
      "text/plain": [
       "2"
      ]
     },
     "execution_count": 5,
     "metadata": {},
     "output_type": "execute_result"
    }
   ],
   "source": [
    "len(classes)"
   ]
  },
  {
   "cell_type": "code",
   "execution_count": 6,
   "metadata": {},
   "outputs": [],
   "source": [
    "class CNNDataset(Dataset):\n",
    "    def __init__(self, classes):\n",
    "        self.transform = transform\n",
    "        self.images = []\n",
    "        self.n = len(classes)\n",
    "        \n",
    "        for cl in classes:\n",
    "            self.images.append([])\n",
    "            for img_name in os.listdir(root_dir + cl + '/images/'):\n",
    "                img = io.imread(root_dir + cl + '/images/' + img_name) / 255\n",
    "                if not len(img.shape) == 3:\n",
    "                    img = np.stack([img, img, img])\n",
    "                else:\n",
    "                    img = img.transpose((2, 0, 1))\n",
    "                self.images[-1].append(img)\n",
    "                \n",
    "    def __len__(self):\n",
    "        return 120 * 500\n",
    "        \n",
    "    def __getitem__(self, idx):\n",
    "        class1 = np.random.randint(0, self.n)\n",
    "        img1 = self.images[class1][np.random.randint(0, 120)]\n",
    "        sample = {'img1' : torch.from_numpy(img1.astype('float')), 'res' : class1}\n",
    "        return sample"
   ]
  },
  {
   "cell_type": "code",
   "execution_count": 7,
   "metadata": {},
   "outputs": [],
   "source": [
    "dataset = CNNDataset(classes)\n",
    "dataloader = DataLoader(dataset, batch_size = batch_size)"
   ]
  },
  {
   "cell_type": "code",
   "execution_count": 8,
   "metadata": {},
   "outputs": [],
   "source": [
    "model = CNN(len(classes))\n",
    "model.double()\n",
    "model.cuda()\n",
    "coef = 0"
   ]
  },
  {
   "cell_type": "code",
   "execution_count": null,
   "metadata": {},
   "outputs": [],
   "source": [
    "sgd = torch.optim.SGD(model.parameters(), lr = 0.1, momentum = 0.6, weight_decay = coef)\n",
    "criterion = nn.CrossEntropyLoss()\n",
    "model.train()\n",
    "for i in range(10):\n",
    "    for j, batch in enumerate(dataloader):\n",
    "        target = Variable(batch['res']).cuda()\n",
    "        y_pred = model.forward(Variable(batch['img1']).cuda())\n",
    "        sgd.zero_grad()\n",
    "        loss = criterion(y_pred, target)\n",
    "        loss.backward()\n",
    "        sgd.step()\n",
    "        writer.add_scalar('cross entropy', loss, i * len(dataloader) + j)"
   ]
  },
  {
   "cell_type": "code",
   "execution_count": null,
   "metadata": {},
   "outputs": [],
   "source": []
  }
 ],
 "metadata": {
  "kernelspec": {
   "display_name": "Python 3",
   "language": "python",
   "name": "python3"
  },
  "language_info": {
   "codemirror_mode": {
    "name": "ipython",
    "version": 3
   },
   "file_extension": ".py",
   "mimetype": "text/x-python",
   "name": "python",
   "nbconvert_exporter": "python",
   "pygments_lexer": "ipython3",
   "version": "3.6.4"
  }
 },
 "nbformat": 4,
 "nbformat_minor": 2
}
