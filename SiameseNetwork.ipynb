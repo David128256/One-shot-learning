{
 "cells": [
  {
   "cell_type": "code",
   "execution_count": 1,
   "metadata": {},
   "outputs": [],
   "source": [
    "import torch\n",
    "import torch.nn as nn\n",
    "import os\n",
    "import numpy as np\n",
    "from torch.utils.data import DataLoader, Dataset\n",
    "from torchvision import transforms, utils\n",
    "from skimage import io, transform\n",
    "from torch.nn import functional as F\n",
    "from torch.autograd import Variable\n",
    "from tensorboardX import SummaryWriter\n",
    "from tqdm import trange\n",
    "from PIL import Image"
   ]
  },
  {
   "cell_type": "code",
   "execution_count": 2,
   "metadata": {},
   "outputs": [],
   "source": [
    "root_dir = 'tiny-imagenet-200/train/'\n",
    "writer = SummaryWriter()\n",
    "batch_size = 128\n",
    "np.random.seed(42)"
   ]
  },
  {
   "cell_type": "code",
   "execution_count": 3,
   "metadata": {},
   "outputs": [],
   "source": [
    "def weights_init(m):\n",
    "    classname = m.__class__.__name__\n",
    "    if classname.find('Conv') != -1:\n",
    "        m.weight.data.normal_(0.0, 0.02)\n",
    "    elif classname.find('BatchNorm') != -1:\n",
    "        m.weight.data.normal_(1.0, 0.02)\n",
    "        m.bias.data.fill_(0)"
   ]
  },
  {
   "cell_type": "code",
   "execution_count": 4,
   "metadata": {},
   "outputs": [],
   "source": [
    "class SiameseNetwork(nn.Module):\n",
    "    def __init__(self, classes_n):\n",
    "        super(SiameseNetwork, self).__init__()\n",
    "        self.cnn = nn.Sequential(\n",
    "            nn.Conv2d(3, 128, kernel_size=7, padding=3),\n",
    "            nn.ReLU(),\n",
    "            nn.BatchNorm2d(128),\n",
    "            nn.Conv2d(128, 256, kernel_size=7, padding=3),\n",
    "            nn.ReLU(),\n",
    "            nn.MaxPool2d(2),\n",
    "            nn.Conv2d(256, 256, kernel_size=5, padding=2),\n",
    "            nn.ReLU(),\n",
    "            nn.BatchNorm2d(256),\n",
    "            nn.Conv2d(256, 128, kernel_size=5, padding=2),\n",
    "            nn.ReLU(),\n",
    "            nn.BatchNorm2d(128),\n",
    "            nn.MaxPool2d(2),\n",
    "            nn.Conv2d(128, 256, kernel_size=3, padding=1),\n",
    "            nn.ReLU(),\n",
    "            nn.MaxPool2d(2),\n",
    "            nn.Conv2d(256, 512, kernel_size=3, padding=1),\n",
    "            nn.ReLU(),\n",
    "            nn.BatchNorm2d(512),\n",
    "            nn.Conv2d(512, 256, kernel_size=3, padding=1),\n",
    "            nn.ReLU(),\n",
    "            nn.BatchNorm2d(256),\n",
    "            nn.Conv2d(256, 256, kernel_size=3, padding=1),\n",
    "            nn.ReLU())\n",
    "\n",
    "        self.fc1 = nn.Sequential(\n",
    "            nn.Linear(256 * 8 * 8, 1024),\n",
    "            nn.LeakyReLU(),\n",
    "            nn.Linear(1024, 512))\n",
    "        \n",
    "        self.fc2 = nn.Sequential(\n",
    "            nn.Linear(512, 256),\n",
    "            nn.LeakyReLU(),\n",
    "            nn.Linear(256, 1))\n",
    "        \n",
    "        self.fc3 = nn.Sequential(\n",
    "            nn.Linear(512, classes_n))\n",
    "        \n",
    "    def forward_once(self, x):\n",
    "        output = self.cnn(x)\n",
    "        output = output.view(output.size()[0], -1)\n",
    "        output = self.fc1(output)\n",
    "        return output\n",
    "    \n",
    "    def forward(self, x):\n",
    "        out = self.forward_once(x)\n",
    "        out = self.fc3(out)\n",
    "        return out\n",
    "    \n",
    "    def forward_siamese(self, input1, input2):\n",
    "        out1 = self.forward_once(input1)\n",
    "        out2 = self.forward_once(input2)\n",
    "        out = torch.abs(out1 - out2)\n",
    "        out = self.fc2(out)\n",
    "        return out\n",
    "    \n",
    "    def forward_one_shot(self, x, support_set):\n",
    "        preds = []\n",
    "        for img in support_set:\n",
    "            preds.append(self.forward_siamese(x, img).data.cpu().numpy()[0])\n",
    "        res = np.argmin(np.array(preds))\n",
    "        return res"
   ]
  },
  {
   "cell_type": "code",
   "execution_count": 5,
   "metadata": {},
   "outputs": [],
   "source": [
    "class ImageDataset(Dataset):\n",
    "    def __init__(self, images, n_classes):\n",
    "        self.images = images\n",
    "        self.n = n_classes\n",
    "        self.cur_class = 0\n",
    "        self.cur_img = 0\n",
    "        self.size = 0\n",
    "        for i in images:\n",
    "            self.size += len(i)\n",
    "        \n",
    "    def __len__(self):\n",
    "        return self.size\n",
    "        \n",
    "    def __getitem__(self, idx):\n",
    "        class1 = self.cur_class\n",
    "        if np.random.uniform() < 0.5:\n",
    "            class2 = np.random.randint(0, self.n)\n",
    "            res = 1\n",
    "        else:\n",
    "            class2 = class1\n",
    "            res = 0\n",
    "        \n",
    "        img1 = self.images[class1][self.cur_img]\n",
    "        img2 = self.images[class2][np.random.randint(0, high = len(self.images[class2]))]\n",
    "        self.cur_img += 1\n",
    "        if self.cur_img >= len(self.images[self.cur_class]):\n",
    "            self.cur_img = 0\n",
    "            self.cur_class = (self.cur_class + 1) % self.n\n",
    "        \n",
    "        sample = {'img1' : torch.from_numpy(img1), 'img2' : torch.from_numpy(img2), 'res' : res}\n",
    "        return sample"
   ]
  },
  {
   "cell_type": "code",
   "execution_count": 6,
   "metadata": {},
   "outputs": [],
   "source": [
    "class CNNDataset(Dataset):\n",
    "    def __init__(self, images,  n_classes):\n",
    "        self.images = images\n",
    "        self.n = n_classes\n",
    "        self.size = 0\n",
    "        for i in images:\n",
    "            self.size += len(i)\n",
    "        \n",
    "    def __len__(self):\n",
    "        return self.size\n",
    "        \n",
    "    def __getitem__(self, idx):\n",
    "        class1 = np.random.randint(0, self.n)\n",
    "        img1 = self.images[class1][np.random.randint(0, len(self.images[class1]))]\n",
    "        sample = {'img1' : torch.from_numpy(img1), 'res' : class1}\n",
    "        return sample"
   ]
  },
  {
   "cell_type": "code",
   "execution_count": 7,
   "metadata": {},
   "outputs": [],
   "source": [
    "classes = os.listdir(root_dir)\n",
    "test_classes = np.random.choice(classes, size = int(0.1 * len(classes)), replace = False)\n",
    "classes = [i for i in classes if i not in test_classes]"
   ]
  },
  {
   "cell_type": "code",
   "execution_count": 8,
   "metadata": {},
   "outputs": [],
   "source": [
    "n = len(classes)\n",
    "test_n = len(test_classes)"
   ]
  },
  {
   "cell_type": "code",
   "execution_count": 9,
   "metadata": {},
   "outputs": [],
   "source": [
    "images = []\n",
    "test = []"
   ]
  },
  {
   "cell_type": "code",
   "execution_count": 10,
   "metadata": {},
   "outputs": [],
   "source": [
    "for cl in classes:\n",
    "    images.append([])\n",
    "    test.append([])\n",
    "    for img_name in os.listdir(root_dir + cl + '/images/'):\n",
    "        img = np.array(Image.open(root_dir + cl + '/images/' + img_name), dtype = 'float32') / 255\n",
    "        if not len(img.shape) == 3:\n",
    "            img = np.stack([img, img, img])\n",
    "        else:\n",
    "            img = img.transpose((2, 0, 1))\n",
    "        if np.random.uniform() < 0.1:\n",
    "            test[-1].append(img)\n",
    "        else:\n",
    "            images[-1].append(img)"
   ]
  },
  {
   "cell_type": "code",
   "execution_count": 11,
   "metadata": {},
   "outputs": [],
   "source": [
    "dataset = CNNDataset(images, n)\n",
    "dataloader = DataLoader(dataset, batch_size = batch_size)\n",
    "test_dataset = CNNDataset(test, n)\n",
    "test_dataloader = DataLoader(test_dataset, batch_size = batch_size)"
   ]
  },
  {
   "cell_type": "code",
   "execution_count": 11,
   "metadata": {},
   "outputs": [],
   "source": [
    "model = SiameseNetwork(n)\n",
    "model.apply(weights_init)\n",
    "model.cuda()\n",
    "coef = 0.02"
   ]
  },
  {
   "cell_type": "code",
   "execution_count": 13,
   "metadata": {},
   "outputs": [],
   "source": [
    "sgd = torch.optim.SGD(model.parameters(), lr = 0.02, momentum = 0.9, weight_decay = coef)\n",
    "criterion = nn.CrossEntropyLoss()\n",
    "for i in range(20):\n",
    "    model.train()\n",
    "    for j, batch in enumerate(dataloader):\n",
    "        target = Variable(batch['res']).cuda()\n",
    "        y_pred = model.forward(Variable(batch['img1']).cuda())       \n",
    "        loss = criterion(y_pred, target)\n",
    "        mav = torch.mean(torch.abs(y_pred))\n",
    "        writer.add_scalar('cross entropy', loss, i * len(dataloader) + j)\n",
    "        writer.add_scalar('absolute value', mav, i * len(dataloader) + j)\n",
    "        sgd.zero_grad()\n",
    "        loss.backward()\n",
    "        sgd.step()\n",
    "    model.eval()\n",
    "    for j, batch in enumerate(test_dataloader):\n",
    "        target = Variable(batch['res']).cuda()\n",
    "        y_pred = model.forward(Variable(batch['img1']).cuda())       \n",
    "        loss = criterion(y_pred, target)\n",
    "        writer.add_scalar('test cross entropy', loss, i * len(test_dataloader) + j)"
   ]
  },
  {
   "cell_type": "code",
   "execution_count": 12,
   "metadata": {},
   "outputs": [],
   "source": [
    "model = torch.load('model2')"
   ]
  },
  {
   "cell_type": "code",
   "execution_count": 13,
   "metadata": {},
   "outputs": [],
   "source": [
    "dataset = ImageDataset(images, n)\n",
    "dataloader = DataLoader(dataset, batch_size = batch_size)\n",
    "test_dataset = ImageDataset(test, n)\n",
    "test_dataloader = DataLoader(test_dataset, batch_size = batch_size)"
   ]
  },
  {
   "cell_type": "code",
   "execution_count": null,
   "metadata": {},
   "outputs": [],
   "source": [
    "for param in model.cnn.parameters():\n",
    "    param.requires_grad = False"
   ]
  },
  {
   "cell_type": "code",
   "execution_count": null,
   "metadata": {},
   "outputs": [],
   "source": [
    "sgd = torch.optim.SGD(filter(lambda p: p.requires_grad, model.parameters()), lr = 0.02, momentum = 0.9, weight_decay = coef)\n",
    "criterion = nn.BCEWithLogitsLoss()\n",
    "for i in range(200):\n",
    "    model.train()\n",
    "    for j, batch in enumerate(dataloader):\n",
    "        target = Variable(batch['res']).float().cuda()\n",
    "        y_pred = model.forward_siamese(Variable(batch['img1']).cuda(), Variable(batch['img2']).cuda())\n",
    "        y_pred = y_pred.view(-1)\n",
    "        loss = criterion(y_pred, target)\n",
    "        mav = torch.mean(torch.abs(y_pred))\n",
    "        writer.add_scalar('siamese cross entropy', loss, i * len(dataloader) + j)\n",
    "        writer.add_scalar('siamese absolute value', mav, i * len(dataloader) + j)\n",
    "        sgd.zero_grad()\n",
    "        loss.backward()\n",
    "        sgd.step()\n",
    "    model.eval()\n",
    "    for j, batch in enumerate(test_dataloader):\n",
    "        target = Variable(batch['res']).float().cuda()\n",
    "        y_pred = model.forward_siamese(Variable(batch['img1']).cuda(), Variable(batch['img2']).cuda())\n",
    "        y_pred = y_pred.view(-1)\n",
    "        loss = criterion(y_pred, target)\n",
    "        writer.add_scalar('test siamese cross entropy', loss, i * len(test_dataloader) + j)"
   ]
  },
  {
   "cell_type": "code",
   "execution_count": null,
   "metadata": {},
   "outputs": [],
   "source": [
    "torch.save(model, 'model3')"
   ]
  },
  {
   "cell_type": "code",
   "execution_count": null,
   "metadata": {},
   "outputs": [],
   "source": [
    "class TestDataset(Dataset):\n",
    "    def __init__(self, classes):\n",
    "        self.transform = transform\n",
    "        self.images = []\n",
    "        self.support_set = []\n",
    "        self.n = len(classes)\n",
    "        self.cur_class = 0\n",
    "        self.cur_img = 0\n",
    "        self.size = 0\n",
    "        \n",
    "        for cl in classes:\n",
    "            self.images.append([])\n",
    "            sup = np.random.choice(os.listdir(root_dir + cl + '/images/'))\n",
    "            for img_name in os.listdir(root_dir + cl + '/images/'):\n",
    "                img = io.imread(root_dir + cl + '/images/' + img_name) / 255\n",
    "                if not len(img.shape) == 3:\n",
    "                    img = np.stack([img, img, img])\n",
    "                else:\n",
    "                    img = img.transpose((2, 0, 1))\n",
    "                if sup == img_name:\n",
    "                    self.support_set.append(Variable(torch.Tensor(img)).unsqueeze(0).cuda())\n",
    "                else:\n",
    "                    self.images[-1].append(img)\n",
    "                    self.size += 1\n",
    "\n",
    "    def __len__(self):\n",
    "        return self.size\n",
    "        \n",
    "    def __getitem__(self):\n",
    "        img1 = self.images[self.cur_class][self.cur_img]\n",
    "        self.cur_img += 1\n",
    "        if self.cur_img >= len(self.images[self.cur_class]):\n",
    "            self.cur_img = 0\n",
    "            self.cur_class = (self.cur_class + 1) % self.n\n",
    "        \n",
    "        sample = {'img1' : torch.from_numpy(img1.astype('float32')), 'res' : self.cur_class}\n",
    "        return sample"
   ]
  },
  {
   "cell_type": "code",
   "execution_count": null,
   "metadata": {},
   "outputs": [],
   "source": [
    "del dataset\n",
    "del dataloader"
   ]
  },
  {
   "cell_type": "code",
   "execution_count": null,
   "metadata": {},
   "outputs": [],
   "source": [
    "dataset = TestDataset(test_classes)"
   ]
  },
  {
   "cell_type": "code",
   "execution_count": null,
   "metadata": {},
   "outputs": [],
   "source": [
    "model.eval()\n",
    "correct = 0\n",
    "for i in trange(len(dataset)):\n",
    "    sample = dataset.__getitem__()\n",
    "    target = sample['res']\n",
    "    y_pred = model.forward_one_shot(Variable(sample['img1']).unsqueeze(0).cuda(), dataset.support_set)\n",
    "    if target == y_pred:\n",
    "        correct += 1\n",
    "print(correct / len(dataset))"
   ]
  },
  {
   "cell_type": "code",
   "execution_count": null,
   "metadata": {},
   "outputs": [],
   "source": []
  }
 ],
 "metadata": {
  "kernelspec": {
   "display_name": "Python 3",
   "language": "python",
   "name": "python3"
  },
  "language_info": {
   "codemirror_mode": {
    "name": "ipython",
    "version": 3
   },
   "file_extension": ".py",
   "mimetype": "text/x-python",
   "name": "python",
   "nbconvert_exporter": "python",
   "pygments_lexer": "ipython3",
   "version": "3.6.4"
  }
 },
 "nbformat": 4,
 "nbformat_minor": 2
}
