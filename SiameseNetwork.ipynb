{
 "cells": [
  {
   "cell_type": "code",
   "execution_count": 1,
   "metadata": {},
   "outputs": [],
   "source": [
    "import torch\n",
    "import torch.nn as nn\n",
    "import os\n",
    "import numpy as np\n",
    "from torch.utils.data import DataLoader, Dataset\n",
    "from torchvision import transforms, utils, models\n",
    "from torch.nn import functional as F\n",
    "from torch.autograd import Variable\n",
    "from tensorboardX import SummaryWriter\n",
    "from tqdm import trange, tqdm\n",
    "from PIL import Image\n",
    "import torch.utils.model_zoo as model_zoo"
   ]
  },
  {
   "cell_type": "code",
   "execution_count": 2,
   "metadata": {},
   "outputs": [],
   "source": [
    "root_dir = 'tiny-imagenet-200/train/'\n",
    "writer = SummaryWriter()\n",
    "batch_size = 128\n",
    "np.random.seed(42)"
   ]
  },
  {
   "cell_type": "code",
   "execution_count": 3,
   "metadata": {},
   "outputs": [],
   "source": [
    "class SiameseNetwork(nn.Module):\n",
    "    def __init__(self, classes_n):\n",
    "        super(SiameseNetwork, self).__init__()\n",
    "        self.cnn = nn.Sequential(\n",
    "            nn.Conv2d(3, 64, 3, 1, 1),\n",
    "            nn.BatchNorm2d(64),\n",
    "            nn.ReLU(),\n",
    "            nn.MaxPool2d(2),\n",
    "            nn.Conv2d(64, 64, 3, 1, 1),\n",
    "            nn.BatchNorm2d(64),\n",
    "            nn.ReLU(),\n",
    "            nn.MaxPool2d(2),\n",
    "            nn.Conv2d(64, 128, 3, 1, 1),\n",
    "            nn.BatchNorm2d(128),\n",
    "            nn.ReLU(),\n",
    "            nn.MaxPool2d(2),\n",
    "            nn.Conv2d(128, 128, 3, 1, 1),\n",
    "            nn.BatchNorm2d(128),\n",
    "            nn.ReLU(),\n",
    "            nn.MaxPool2d(2))\n",
    "\n",
    "        self.fc1 = nn.Sequential(\n",
    "            nn.Linear(64, 16),\n",
    "            nn.Sigmoid())\n",
    "        \n",
    "        self.fc2 = nn.Sequential(\n",
    "            nn.Linear(257, 128),\n",
    "            nn.Sigmoid(),\n",
    "            nn.Linear(128, 1))\n",
    "        \n",
    "        self.fc3 = nn.Sequential(\n",
    "            nn.Linear(1024, classes_n))\n",
    "        self.dist = nn.CosineSimilarity()\n",
    "        \n",
    "    def forward_once(self, x):\n",
    "        output = self.cnn(x)\n",
    "        output = output.view(output.size()[0], -1)\n",
    "        return output\n",
    "    \n",
    "    def forward(self, x):\n",
    "        out = self.forward_once(x)\n",
    "        out = self.fc2(out)\n",
    "        return out\n",
    "    \n",
    "    def forward_siamese(self, input1, input2):\n",
    "        out1 = self.forward_once(input1)\n",
    "        out2 = self.forward_once(input2)\n",
    "        out = torch.cat([torch.abs(out1 - out2), (out1 - out2) ** 2, self.dist(out1, out2).view(-1, 1)], dim = 1)\n",
    "        out = self.fc2(out)\n",
    "        return out\n",
    "    \n",
    "    def forward_one_shot(self, x, support_set):\n",
    "        preds = []\n",
    "        for img in support_set:\n",
    "            preds.append(self.forward_siamese(x, img).data.cpu().numpy()[0])\n",
    "        res = np.argmin(np.array(preds))\n",
    "        return res"
   ]
  },
  {
   "cell_type": "code",
   "execution_count": 4,
   "metadata": {},
   "outputs": [],
   "source": [
    "class ImageDataset(Dataset):\n",
    "    def __init__(self, images, n_classes):\n",
    "        self.images = images\n",
    "        self.n = n_classes\n",
    "        self.cur_class = 0\n",
    "        self.cur_img = 0\n",
    "        self.size = 0\n",
    "        for i in images:\n",
    "            self.size += len(i)\n",
    "        \n",
    "    def __len__(self):\n",
    "        return self.size\n",
    "        \n",
    "    def __getitem__(self, idx):\n",
    "        class1 = self.cur_class\n",
    "        if np.random.uniform() < 0.5:\n",
    "            class2 = np.random.randint(0, self.n)\n",
    "            res = 1\n",
    "        else:\n",
    "            class2 = class1\n",
    "            res = 0\n",
    "        \n",
    "        img1 = self.images[class1][self.cur_img]\n",
    "        img2 = self.images[class2][np.random.randint(0, high = len(self.images[class2]))]\n",
    "        self.cur_img += 1\n",
    "        if self.cur_img >= len(self.images[self.cur_class]):\n",
    "            self.cur_img = 0\n",
    "            self.cur_class = (self.cur_class + 1) % self.n\n",
    "        \n",
    "        sample = {'img1' : torch.from_numpy(img1), 'img2' : torch.from_numpy(img2), 'res' : res}\n",
    "        return sample"
   ]
  },
  {
   "cell_type": "code",
   "execution_count": 13,
   "metadata": {},
   "outputs": [],
   "source": [
    "class TestDataset(Dataset):\n",
    "    def __init__(self, classes):\n",
    "        self.images = []\n",
    "        self.support_set = []\n",
    "        self.n = len(classes)\n",
    "        self.cur_class = 0\n",
    "        self.cur_img = 0\n",
    "        self.size = 0\n",
    "        for cl in classes:\n",
    "            self.images.append([])\n",
    "            sup = np.random.choice(os.listdir(root_dir + cl + '/images/'))\n",
    "            img = Image.open(root_dir + cl + '/images/' + sup)\n",
    "            img = img.resize((28, 28))\n",
    "            img = np.array(img, dtype = 'float32') / 255\n",
    "            if not len(img.shape) == 3:\n",
    "                img = np.stack([img, img, img])\n",
    "            else:\n",
    "                img = img.transpose((2, 0, 1))\n",
    "            self.support_set.append(torch.Tensor(img))\n",
    "            for img_name in os.listdir(root_dir + cl + '/images/'):\n",
    "                if not sup == img_name:\n",
    "                    img = Image.open(root_dir + cl + '/images/' + img_name)\n",
    "                    img = img.resize((28, 28))\n",
    "                    img = np.array(img, dtype = 'float32') / 255\n",
    "                    if not len(img.shape) == 3:\n",
    "                        img = np.stack([img, img, img])\n",
    "                    else:\n",
    "                        img = img.transpose((2, 0, 1))\n",
    "                    self.images[-1].append(img)\n",
    "                    self.size += 1\n",
    "        self.support_set = torch.stack(self.support_set)\n",
    "        \n",
    "    def __len__(self):\n",
    "        return self.size\n",
    "        \n",
    "    def __getitem__(self):\n",
    "        img1 = self.images[self.cur_class][self.cur_img]\n",
    "        ind = np.random.randint(0, self.n, size = 5)\n",
    "        if not self.cur_class in ind:\n",
    "            res = np.random.randint(0, 5)\n",
    "            ind[res] = self.cur_class\n",
    "        else:\n",
    "            res = np.where(ind == self.cur_class)[0][0]\n",
    "        sup = torch.stack([self.support_set[a] for a in ind])\n",
    "        self.cur_img += 1\n",
    "        if self.cur_img >= len(self.images[self.cur_class]):\n",
    "            self.cur_img = 0\n",
    "            self.cur_class = (self.cur_class + 1) % self.n\n",
    "        sample = {'img1' : torch.from_numpy(img1.astype('float32')), 'res' : res, 'support_set': sup}\n",
    "        return sample"
   ]
  },
  {
   "cell_type": "code",
   "execution_count": 6,
   "metadata": {},
   "outputs": [],
   "source": [
    "class CNNDataset(Dataset):\n",
    "    def __init__(self, images,  n_classes):\n",
    "        self.images = images\n",
    "        self.n = n_classes\n",
    "        self.size = 0\n",
    "        for i in images:\n",
    "            self.size += len(i)\n",
    "        \n",
    "    def __len__(self):\n",
    "        return self.size\n",
    "        \n",
    "    def __getitem__(self, idx):\n",
    "        class1 = np.random.randint(0, self.n)\n",
    "        img1 = self.images[class1][np.random.randint(0, len(self.images[class1]))]\n",
    "        sample = {'img1' : torch.from_numpy(img1), 'res' : class1}\n",
    "        return sample"
   ]
  },
  {
   "cell_type": "code",
   "execution_count": 7,
   "metadata": {},
   "outputs": [],
   "source": [
    "classes = os.listdir(root_dir)\n",
    "test_classes = np.random.choice(classes, size = int(0.1 * len(classes)), replace = False)\n",
    "classes = [i for i in classes if i not in test_classes]"
   ]
  },
  {
   "cell_type": "code",
   "execution_count": 8,
   "metadata": {},
   "outputs": [],
   "source": [
    "n = len(classes)\n",
    "test_n = len(test_classes)"
   ]
  },
  {
   "cell_type": "code",
   "execution_count": 9,
   "metadata": {},
   "outputs": [],
   "source": [
    "images = []\n",
    "test = []"
   ]
  },
  {
   "cell_type": "code",
   "execution_count": 10,
   "metadata": {},
   "outputs": [
    {
     "name": "stderr",
     "output_type": "stream",
     "text": [
      "100%|██████████| 180/180 [00:19<00:00,  9.30it/s]\n"
     ]
    }
   ],
   "source": [
    "for cl in tqdm(classes):\n",
    "    images.append([])\n",
    "    test.append([])\n",
    "    for img_name in os.listdir(root_dir + cl + '/images/'):\n",
    "        img = np.array(Image.open(root_dir + cl + '/images/' + img_name).resize((28, 28)), dtype = 'float32') / 255\n",
    "        if not len(img.shape) == 3:\n",
    "            img = np.stack([img, img, img])\n",
    "        else:\n",
    "            img = img.transpose((2, 0, 1))\n",
    "        if np.random.uniform() < 0.1:\n",
    "            test[-1].append(img)\n",
    "        else:\n",
    "            images[-1].append(img)"
   ]
  },
  {
   "cell_type": "code",
   "execution_count": 14,
   "metadata": {},
   "outputs": [],
   "source": [
    "dataset = CNNDataset(images, n)\n",
    "dataloader = DataLoader(dataset, batch_size = batch_size)\n",
    "test_dataset = CNNDataset(test, n)\n",
    "test_dataloader = DataLoader(test_dataset, batch_size = batch_size)"
   ]
  },
  {
   "cell_type": "code",
   "execution_count": 15,
   "metadata": {},
   "outputs": [],
   "source": [
    "model = SiameseNetwork(n)\n",
    "model.cuda()\n",
    "coef = 0.0"
   ]
  },
  {
   "cell_type": "code",
   "execution_count": 13,
   "metadata": {},
   "outputs": [],
   "source": [
    "sgd = torch.optim.Adam(model.parameters(), weight_decay = coef)\n",
    "criterion = nn.CrossEntropyLoss()\n",
    "for i in range(30):\n",
    "    model.train()\n",
    "    for j, batch in enumerate(dataloader):\n",
    "        target = Variable(batch['res']).cuda()\n",
    "        y_pred = model.forward(Variable(batch['img1']).cuda())       \n",
    "        loss = criterion(y_pred, target)\n",
    "        mav = torch.mean(torch.abs(y_pred))\n",
    "        writer.add_scalar('cross entropy', loss, i * len(dataloader) + j)\n",
    "        writer.add_scalar('absolute value', mav, i * len(dataloader) + j)\n",
    "        sgd.zero_grad()\n",
    "        loss.backward()\n",
    "        sgd.step()\n",
    "    model.eval()\n",
    "    for j, batch in enumerate(test_dataloader):\n",
    "        target = Variable(batch['res']).cuda()\n",
    "        y_pred = model.forward(Variable(batch['img1']).cuda())       \n",
    "        loss = criterion(y_pred, target)\n",
    "        writer.add_scalar('test cross entropy', loss, i * len(test_dataloader) + j)"
   ]
  },
  {
   "cell_type": "code",
   "execution_count": 16,
   "metadata": {},
   "outputs": [],
   "source": [
    "dataset = ImageDataset(images, n)\n",
    "dataloader = DataLoader(dataset, batch_size = batch_size)\n",
    "test_dataset = ImageDataset(test, n)\n",
    "test_dataloader = DataLoader(test_dataset, batch_size = batch_size)\n",
    "one_shot_dataset = TestDataset(test_classes)"
   ]
  },
  {
   "cell_type": "code",
   "execution_count": null,
   "metadata": {},
   "outputs": [],
   "source": [
    "for param in model.cnn.parameters():\n",
    "    param.requires_grad = True"
   ]
  },
  {
   "cell_type": "code",
   "execution_count": 17,
   "metadata": {},
   "outputs": [
    {
     "name": "stderr",
     "output_type": "stream",
     "text": [
      "100%|██████████| 200/200 [1:33:50<00:00, 28.15s/it]\n"
     ]
    }
   ],
   "source": [
    "sgd = torch.optim.Adam(model.parameters(), weight_decay = coef)\n",
    "dist = nn.CosineSimilarity()\n",
    "criterion = nn.BCEWithLogitsLoss()\n",
    "for i in trange(200):\n",
    "    model.train()\n",
    "    for j, batch in enumerate(dataloader):\n",
    "        target = Variable(batch['res']).float().cuda()\n",
    "        y_pred = model.forward_siamese(Variable(batch['img1']).cuda(), Variable(batch['img2']).cuda())\n",
    "        y_pred = y_pred.view(-1)\n",
    "        loss = criterion(y_pred, target)\n",
    "        mav = torch.mean(torch.abs(y_pred))\n",
    "        writer.add_scalar('siamese cross entropy', loss, i * len(dataloader) + j)\n",
    "        writer.add_scalar('siamese absolute value', mav, i * len(dataloader) + j)\n",
    "        sgd.zero_grad()\n",
    "        loss.backward()\n",
    "        sgd.step()\n",
    "    model.eval()\n",
    "    for j, batch in enumerate(test_dataloader):\n",
    "        target = Variable(batch['res']).float().cuda()\n",
    "        y_pred = model.forward_siamese(Variable(batch['img1']).cuda(), Variable(batch['img2']).cuda())\n",
    "        y_pred = y_pred.view(-1)\n",
    "        loss = criterion(y_pred, target)\n",
    "        writer.add_scalar('test siamese cross entropy', loss, i * len(test_dataloader) + j)\n",
    "    correct = 0\n",
    "    for j in range(len(one_shot_dataset)):\n",
    "        sample = one_shot_dataset.__getitem__()\n",
    "        target = sample['res']\n",
    "        y_pred = model.forward_siamese(Variable(sample['img1']).unsqueeze(0).cuda(), Variable(sample['support_set']).cuda())\n",
    "        pred = np.argmin(y_pred.data.cpu().numpy())\n",
    "        if target == pred:\n",
    "            correct += 1\n",
    "    writer.add_scalar('test accuracy', correct / len(one_shot_dataset), i)"
   ]
  },
  {
   "cell_type": "code",
   "execution_count": 18,
   "metadata": {},
   "outputs": [
    {
     "name": "stderr",
     "output_type": "stream",
     "text": [
      "/home/david/.local/lib/python3.6/site-packages/torch/serialization.py:159: UserWarning: Couldn't retrieve source code for container of type SiameseNetwork. It won't be checked for correctness upon loading.\n",
      "  \"type \" + obj.__name__ + \". It won't be checked \"\n"
     ]
    }
   ],
   "source": [
    "torch.save(model, 'SiameseNet')"
   ]
  },
  {
   "cell_type": "code",
   "execution_count": 19,
   "metadata": {},
   "outputs": [],
   "source": [
    "one_shot_dataset = TestDataset(test_classes)"
   ]
  },
  {
   "cell_type": "code",
   "execution_count": 16,
   "metadata": {},
   "outputs": [],
   "source": [
    "model = models.Inception3().cuda()\n",
    "model.load_state_dict(torch.load(\"/home/david/.torch/models/inception_v3_google-1a9a5a14.pth\"))"
   ]
  },
  {
   "cell_type": "code",
   "execution_count": 22,
   "metadata": {},
   "outputs": [
    {
     "name": "stderr",
     "output_type": "stream",
     "text": [
      "100%|██████████| 9980/9980 [00:17<00:00, 567.30it/s]"
     ]
    },
    {
     "name": "stdout",
     "output_type": "stream",
     "text": [
      "0.3629258517034068\n"
     ]
    },
    {
     "name": "stderr",
     "output_type": "stream",
     "text": [
      "\n"
     ]
    }
   ],
   "source": [
    "model.eval()\n",
    "correct = 0\n",
    "dist = nn.CosineSimilarity()\n",
    "for i in trange(len(one_shot_dataset)):\n",
    "    sample = one_shot_dataset.__getitem__()\n",
    "    target = sample['res']\n",
    "    y_pred = model.forward_siamese(Variable(sample['img1']).unsqueeze(0).cuda(), Variable(sample['support_set']).cuda())\n",
    "    pred = np.argmin(y_pred.data.cpu().numpy())\n",
    "    if target == pred:\n",
    "        correct += 1\n",
    "print(correct / len(one_shot_dataset))"
   ]
  },
  {
   "cell_type": "code",
   "execution_count": null,
   "metadata": {},
   "outputs": [],
   "source": []
  }
 ],
 "metadata": {
  "kernelspec": {
   "display_name": "Python 3",
   "language": "python",
   "name": "python3"
  },
  "language_info": {
   "codemirror_mode": {
    "name": "ipython",
    "version": 3
   },
   "file_extension": ".py",
   "mimetype": "text/x-python",
   "name": "python",
   "nbconvert_exporter": "python",
   "pygments_lexer": "ipython3",
   "version": "3.6.4"
  }
 },
 "nbformat": 4,
 "nbformat_minor": 2
}
