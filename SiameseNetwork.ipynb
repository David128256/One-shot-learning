{
 "cells": [
  {
   "cell_type": "code",
   "execution_count": 1,
   "metadata": {},
   "outputs": [],
   "source": [
    "import torch\n",
    "import torch.nn as nn\n",
    "import os\n",
    "import numpy as np\n",
    "from torch.utils.data import DataLoader, Dataset\n",
    "from torchvision import transforms, utils, models\n",
    "from torch.nn import functional as F\n",
    "from torch.autograd import Variable\n",
    "from tensorboardX import SummaryWriter\n",
    "from tqdm import trange, tqdm\n",
    "from PIL import Image\n",
    "import torch.utils.model_zoo as model_zoo\n",
    "import pandas as pd"
   ]
  },
  {
   "cell_type": "code",
   "execution_count": 2,
   "metadata": {},
   "outputs": [],
   "source": [
    "root_dir = 'tiny-imagenet-200/train/'\n",
    "writer = SummaryWriter()\n",
    "batch_size = 512\n",
    "np.random.seed(42)\n",
    "omniglot_dir = 'omniglot/'\n",
    "rtsd_dir = 'rtsd-r1/'"
   ]
  },
  {
   "cell_type": "code",
   "execution_count": 3,
   "metadata": {},
   "outputs": [],
   "source": [
    "if False:\n",
    "    classes = os.listdir(root_dir)\n",
    "    test_classes = np.random.choice(classes, size = int(0.1 * len(classes)), replace = False)\n",
    "    classes = [i for i in classes if i not in test_classes]\n",
    "    def fin_dir(cl):\n",
    "        return root_dir + cl + '/images/'\n",
    "elif True:\n",
    "    classes = []\n",
    "    for i in os.listdir(omniglot_dir):\n",
    "        for j in os.listdir(omniglot_dir + i):\n",
    "            classes.append(i + '/' + j)\n",
    "    test_classes = np.random.choice(classes, size = int(0.1 * len(classes)), replace = False)\n",
    "    classes = [i for i in classes if i not in test_classes]\n",
    "    def fin_dir(cl):\n",
    "        return omniglot_dir + cl + '/'\n",
    "else:\n",
    "    classes = os.listdir(rtsd_dir)\n",
    "    test_classes = np.random.choice(classes, size = int(0.1 * len(classes)), replace = False)\n",
    "    classes = [i for i in classes if i not in test_classes]\n",
    "    def fin_dir(cl):\n",
    "        return rtsd_dir + cl + '/'"
   ]
  },
  {
   "cell_type": "code",
   "execution_count": 19,
   "metadata": {},
   "outputs": [
    {
     "ename": "NameError",
     "evalue": "name 'train_labels' is not defined",
     "output_type": "error",
     "traceback": [
      "\u001b[0;31m---------------------------------------------------------------------------\u001b[0m",
      "\u001b[0;31mNameError\u001b[0m                                 Traceback (most recent call last)",
      "\u001b[0;32m<ipython-input-19-3736c39c3181>\u001b[0m in \u001b[0;36m<module>\u001b[0;34m()\u001b[0m\n\u001b[1;32m      1\u001b[0m \u001b[0ma\u001b[0m \u001b[0;34m=\u001b[0m \u001b[0;34m[\u001b[0m\u001b[0;34m]\u001b[0m\u001b[0;34m\u001b[0m\u001b[0m\n\u001b[0;32m----> 2\u001b[0;31m \u001b[0;32mfor\u001b[0m \u001b[0mi\u001b[0m \u001b[0;32min\u001b[0m \u001b[0mset\u001b[0m\u001b[0;34m(\u001b[0m\u001b[0mtrain_labels\u001b[0m\u001b[0;34m.\u001b[0m\u001b[0mto_dict\u001b[0m\u001b[0;34m(\u001b[0m\u001b[0;34m)\u001b[0m\u001b[0;34m[\u001b[0m\u001b[0;34m'class_number'\u001b[0m\u001b[0;34m]\u001b[0m\u001b[0;34m.\u001b[0m\u001b[0mvalues\u001b[0m\u001b[0;34m(\u001b[0m\u001b[0;34m)\u001b[0m\u001b[0;34m)\u001b[0m\u001b[0;34m:\u001b[0m\u001b[0;34m\u001b[0m\u001b[0m\n\u001b[0m\u001b[1;32m      3\u001b[0m     \u001b[0ma\u001b[0m\u001b[0;34m.\u001b[0m\u001b[0mappend\u001b[0m\u001b[0;34m(\u001b[0m\u001b[0;34m[\u001b[0m\u001b[0;34m]\u001b[0m\u001b[0;34m)\u001b[0m\u001b[0;34m\u001b[0m\u001b[0m\n\u001b[1;32m      4\u001b[0m     \u001b[0;32mfor\u001b[0m \u001b[0mj\u001b[0m \u001b[0;32min\u001b[0m \u001b[0mrange\u001b[0m\u001b[0;34m(\u001b[0m\u001b[0mlen\u001b[0m\u001b[0;34m(\u001b[0m\u001b[0mtrain_labels\u001b[0m\u001b[0;34m)\u001b[0m\u001b[0;34m)\u001b[0m\u001b[0;34m:\u001b[0m\u001b[0;34m\u001b[0m\u001b[0m\n\u001b[1;32m      5\u001b[0m         \u001b[0;32mif\u001b[0m \u001b[0mlist\u001b[0m\u001b[0;34m(\u001b[0m\u001b[0mtrain_labels\u001b[0m\u001b[0;34m.\u001b[0m\u001b[0mto_dict\u001b[0m\u001b[0;34m(\u001b[0m\u001b[0;34m)\u001b[0m\u001b[0;34m[\u001b[0m\u001b[0;34m'class_number'\u001b[0m\u001b[0;34m]\u001b[0m\u001b[0;34m.\u001b[0m\u001b[0mitems\u001b[0m\u001b[0;34m(\u001b[0m\u001b[0;34m)\u001b[0m\u001b[0;34m)\u001b[0m\u001b[0;34m[\u001b[0m\u001b[0mj\u001b[0m\u001b[0;34m]\u001b[0m\u001b[0;34m[\u001b[0m\u001b[0;36m1\u001b[0m\u001b[0;34m]\u001b[0m \u001b[0;34m==\u001b[0m \u001b[0mi\u001b[0m\u001b[0;34m:\u001b[0m\u001b[0;34m\u001b[0m\u001b[0m\n",
      "\u001b[0;31mNameError\u001b[0m: name 'train_labels' is not defined"
     ]
    }
   ],
   "source": [
    "a = []\n",
    "for i in set(train_labels.to_dict()['class_number'].values()):\n",
    "    a.append([])\n",
    "    for j in range(len(train_labels)):\n",
    "        if list(train_labels.to_dict()['class_number'].items())[j][1] == i:\n",
    "            a[-1].append([list(train_labels.to_dict()['class_number'].items())[j][0]])"
   ]
  },
  {
   "cell_type": "code",
   "execution_count": 36,
   "metadata": {},
   "outputs": [
    {
     "name": "stderr",
     "output_type": "stream",
     "text": [
      "/home/david/anaconda3/lib/python3.6/site-packages/ipykernel_launcher.py:1: FutureWarning: get_value is deprecated and will be removed in a future release. Please use .at[] or .iat[] accessors instead\n",
      "  \"\"\"Entry point for launching an IPython kernel.\n"
     ]
    },
    {
     "data": {
      "text/plain": [
       "'000001.png'"
      ]
     },
     "execution_count": 36,
     "metadata": {},
     "output_type": "execute_result"
    }
   ],
   "source": [
    "train_labels.get_value(1, 'filename')"
   ]
  },
  {
   "cell_type": "code",
   "execution_count": 41,
   "metadata": {},
   "outputs": [
    {
     "name": "stderr",
     "output_type": "stream",
     "text": [
      "/home/david/anaconda3/lib/python3.6/site-packages/ipykernel_launcher.py:2: FutureWarning: get_value is deprecated and will be removed in a future release. Please use .at[] or .iat[] accessors instead\n",
      "  \n"
     ]
    }
   ],
   "source": [
    "for i in range(len(a)):\n",
    "    a[i] = [train_labels.get_value(a[i][j][0], 'filename') for j in range(len(a[i]))]"
   ]
  },
  {
   "cell_type": "code",
   "execution_count": 46,
   "metadata": {},
   "outputs": [],
   "source": [
    "for i in range(len(a)):\n",
    "    for j in a[i]:\n",
    "        os.rename(rtsd_dir + 'train/' + j, rtsd_dir + str(i) + '/' + j)"
   ]
  },
  {
   "cell_type": "code",
   "execution_count": 4,
   "metadata": {},
   "outputs": [],
   "source": [
    "class SiameseNetwork(nn.Module):\n",
    "    def __init__(self, classes_n):\n",
    "        super(SiameseNetwork, self).__init__()\n",
    "        self.cnn = nn.Sequential(\n",
    "            nn.Conv2d(3, 64, 3, 1, 1),\n",
    "            nn.BatchNorm2d(64),\n",
    "            nn.ReLU(),\n",
    "            nn.MaxPool2d(2),\n",
    "            nn.Conv2d(64, 64, 3, 1, 1),\n",
    "            nn.BatchNorm2d(64),\n",
    "            nn.ReLU(),\n",
    "            nn.MaxPool2d(2),\n",
    "            nn.Conv2d(64, 128, 3, 1, 1),\n",
    "            nn.BatchNorm2d(128),\n",
    "            nn.ReLU(),\n",
    "            nn.MaxPool2d(2),\n",
    "            nn.Conv2d(128, 128, 3, 1, 1),\n",
    "            nn.BatchNorm2d(128),\n",
    "            nn.ReLU(),\n",
    "            nn.MaxPool2d(2))\n",
    "\n",
    "        self.fc = nn.Sequential(\n",
    "            nn.Linear(257, 128),\n",
    "            nn.Sigmoid(),\n",
    "            nn.Linear(128, 1))\n",
    "        \n",
    "        self.dist = nn.CosineSimilarity()\n",
    "        \n",
    "    def forward_once(self, x):\n",
    "        output = self.cnn(x)\n",
    "        output = output.view(output.size()[0], -1)\n",
    "        return output\n",
    "    \n",
    "    def forward(self, input1, input2):\n",
    "        out1 = self.forward_once(input1)\n",
    "        out2 = self.forward_once(input2)\n",
    "        out = torch.cat([torch.abs(out1 - out2), (out1 - out2) ** 2, self.dist(out1, out2).view(-1, 1)], dim = 1)\n",
    "        out = self.fc(out)\n",
    "        return out\n",
    "    \n",
    "    def forward_one_shot(self, x, support_set):\n",
    "        preds = []\n",
    "        for img in support_set:\n",
    "            preds.append(self.forward(x, img).data.cpu().numpy()[0])\n",
    "        res = np.argmin(np.array(preds))\n",
    "        return res"
   ]
  },
  {
   "cell_type": "code",
   "execution_count": 5,
   "metadata": {},
   "outputs": [],
   "source": [
    "class ImageDataset(Dataset):\n",
    "    def __init__(self, images):\n",
    "        self.images = images\n",
    "        self.n = len(images)\n",
    "        self.cur_class = 0\n",
    "        self.cur_img = 0\n",
    "        self.size = 0\n",
    "        for i in images:\n",
    "            self.size += len(i)\n",
    "        \n",
    "    def __len__(self):\n",
    "        return self.size\n",
    "        \n",
    "    def __getitem__(self, idx):\n",
    "        class1 = self.cur_class\n",
    "        if np.random.uniform() < 0.5:\n",
    "            class2 = np.random.randint(0, self.n)\n",
    "            res = 1\n",
    "        else:\n",
    "            class2 = class1\n",
    "            res = 0\n",
    "        \n",
    "        img1 = self.images[class1][self.cur_img]\n",
    "        img2 = self.images[class2][np.random.randint(0, high = len(self.images[class2]))]\n",
    "        self.cur_img += 1\n",
    "        if self.cur_img >= len(self.images[self.cur_class]):\n",
    "            self.cur_img = 0\n",
    "            self.cur_class = (self.cur_class + 1) % self.n\n",
    "        \n",
    "        sample = {'img1' : torch.from_numpy(img1), 'img2' : torch.from_numpy(img2), 'res' : res}\n",
    "        return sample"
   ]
  },
  {
   "cell_type": "code",
   "execution_count": 6,
   "metadata": {},
   "outputs": [],
   "source": [
    "class TestDataset(Dataset):\n",
    "    def __init__(self, classes):\n",
    "        self.images = []\n",
    "        self.support_set = []\n",
    "        self.n = len(classes)\n",
    "        self.cur_class = 0\n",
    "        self.cur_img = 0\n",
    "        self.size = 0\n",
    "        for cl in classes:\n",
    "            self.images.append([])\n",
    "            sup = np.random.choice(os.listdir(fin_dir(cl)))\n",
    "            img = Image.open(fin_dir(cl) + sup)\n",
    "            img = img.resize((28, 28))\n",
    "            img = np.array(img, dtype = 'float32') / 255\n",
    "            if not len(img.shape) == 3:\n",
    "                img = np.stack([img, img, img])\n",
    "            else:\n",
    "                img = img.transpose((2, 0, 1))\n",
    "            self.support_set.append(torch.Tensor(img))\n",
    "            for img_name in os.listdir(fin_dir(cl)):\n",
    "                if not sup == img_name:\n",
    "                    img = Image.open(fin_dir(cl) + img_name)\n",
    "                    img = img.resize((28, 28))\n",
    "                    img = np.array(img, dtype = 'float32') / 255\n",
    "                    if not len(img.shape) == 3:\n",
    "                        img = np.stack([img, img, img])\n",
    "                    else:\n",
    "                        img = img.transpose((2, 0, 1))\n",
    "                    self.images[-1].append(img)\n",
    "                    self.size += 1\n",
    "        self.support_set = torch.stack(self.support_set)\n",
    "        \n",
    "    def __len__(self):\n",
    "        return self.size\n",
    "        \n",
    "    def __getitem__(self):\n",
    "        img1 = self.images[self.cur_class][self.cur_img]\n",
    "        ind = np.random.randint(0, self.n, size = 5)\n",
    "        if not self.cur_class in ind:\n",
    "            res = np.random.randint(0, 5)\n",
    "            ind[res] = self.cur_class\n",
    "        else:\n",
    "            res = np.where(ind == self.cur_class)[0][0]\n",
    "        sup = torch.stack([self.support_set[a] for a in ind])\n",
    "        self.cur_img += 1\n",
    "        if self.cur_img >= len(self.images[self.cur_class]):\n",
    "            self.cur_img = 0\n",
    "            self.cur_class = (self.cur_class + 1) % self.n\n",
    "        sample = {'img1' : torch.from_numpy(img1.astype('float32')), 'res' : res, 'support_set': sup}\n",
    "        return sample"
   ]
  },
  {
   "cell_type": "code",
   "execution_count": 7,
   "metadata": {},
   "outputs": [
    {
     "name": "stderr",
     "output_type": "stream",
     "text": [
      "100%|██████████| 868/868 [00:02<00:00, 322.53it/s]\n"
     ]
    }
   ],
   "source": [
    "images = []\n",
    "for cl in tqdm(classes):\n",
    "    images.append([])\n",
    "    for img_name in os.listdir(fin_dir(cl)):\n",
    "        img = np.array(Image.open(fin_dir(cl) + img_name).resize((28, 28)), dtype = 'float32') / 255\n",
    "        if not len(img.shape) == 3:\n",
    "            img = np.stack([img, img, img])\n",
    "        else:\n",
    "            img = img.transpose((2, 0, 1))\n",
    "        images[-1].append(img)"
   ]
  },
  {
   "cell_type": "code",
   "execution_count": 8,
   "metadata": {},
   "outputs": [],
   "source": [
    "model = SiameseNetwork(len(classes))\n",
    "model.cuda()\n",
    "coef = 0.0"
   ]
  },
  {
   "cell_type": "code",
   "execution_count": 9,
   "metadata": {},
   "outputs": [],
   "source": [
    "dataset = ImageDataset(images)\n",
    "dataloader = DataLoader(dataset, batch_size = batch_size)\n",
    "one_shot_dataset = TestDataset(test_classes)"
   ]
  },
  {
   "cell_type": "code",
   "execution_count": 10,
   "metadata": {},
   "outputs": [
    {
     "name": "stderr",
     "output_type": "stream",
     "text": [
      "100%|██████████| 800/800 [1:04:06<00:00,  4.81s/it]\n"
     ]
    }
   ],
   "source": [
    "sgd = torch.optim.Adam(model.parameters(), weight_decay = coef)\n",
    "dist = nn.CosineSimilarity()\n",
    "criterion = nn.BCEWithLogitsLoss()\n",
    "sigm = nn.Sigmoid()\n",
    "for i in trange(800):\n",
    "    model.train()\n",
    "    sum_loss = 0\n",
    "    acc = 0\n",
    "    for j, batch in enumerate(dataloader):\n",
    "        target = Variable(batch['res']).float().cuda()\n",
    "        y_pred = model.forward(Variable(batch['img1']).cuda(), Variable(batch['img2']).cuda())\n",
    "        y_pred = y_pred.view(-1)\n",
    "        x = torch.round(sigm(y_pred))\n",
    "        acc += torch.mean((x == target).float())\n",
    "        loss = criterion(y_pred, target)\n",
    "        sum_loss += loss\n",
    "        sgd.zero_grad()\n",
    "        loss.backward()\n",
    "        sgd.step()\n",
    "    writer.add_scalar('cross entropy', sum_loss / len(dataloader), i)\n",
    "    writer.add_scalar('train accuracy', acc / len(dataloader), i)\n",
    "    model.eval()\n",
    "    correct = 0\n",
    "    for j in range(len(one_shot_dataset)):\n",
    "        sample = one_shot_dataset.__getitem__()\n",
    "        target = sample['res']\n",
    "        y_pred = model.forward(Variable(sample['img1']).unsqueeze(0).cuda(), Variable(sample['support_set']).cuda())\n",
    "        pred = np.argmin(y_pred.data.cpu().numpy())\n",
    "        if target == pred:\n",
    "            correct += 1\n",
    "    writer.add_scalar('one shot accuracy', correct / len(one_shot_dataset), i)"
   ]
  },
  {
   "cell_type": "code",
   "execution_count": 11,
   "metadata": {},
   "outputs": [
    {
     "name": "stderr",
     "output_type": "stream",
     "text": [
      "/home/david/.local/lib/python3.6/site-packages/torch/serialization.py:159: UserWarning: Couldn't retrieve source code for container of type SiameseNetwork. It won't be checked for correctness upon loading.\n",
      "  \"type \" + obj.__name__ + \". It won't be checked \"\n"
     ]
    }
   ],
   "source": [
    "torch.save(model, 'SiameseNet')"
   ]
  },
  {
   "cell_type": "code",
   "execution_count": null,
   "metadata": {},
   "outputs": [],
   "source": []
  }
 ],
 "metadata": {
  "kernelspec": {
   "display_name": "Python 3",
   "language": "python",
   "name": "python3"
  },
  "language_info": {
   "codemirror_mode": {
    "name": "ipython",
    "version": 3
   },
   "file_extension": ".py",
   "mimetype": "text/x-python",
   "name": "python",
   "nbconvert_exporter": "python",
   "pygments_lexer": "ipython3",
   "version": "3.6.4"
  }
 },
 "nbformat": 4,
 "nbformat_minor": 2
}
