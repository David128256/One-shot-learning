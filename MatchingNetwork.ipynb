{
 "cells": [
  {
   "cell_type": "code",
   "execution_count": 1,
   "metadata": {},
   "outputs": [],
   "source": [
    "import torch\n",
    "import torch.nn as nn\n",
    "import os\n",
    "import numpy as np\n",
    "from torch.utils.data import DataLoader, Dataset\n",
    "from torchvision import transforms, utils, models\n",
    "from torch.nn import functional as F\n",
    "from torch.autograd import Variable\n",
    "from tensorboardX import SummaryWriter\n",
    "from tqdm import trange, tqdm\n",
    "from PIL import Image\n",
    "import torch.utils.model_zoo as model_zoo"
   ]
  },
  {
   "cell_type": "code",
   "execution_count": 2,
   "metadata": {},
   "outputs": [],
   "source": [
    "root_dir = 'tiny-imagenet-200/train/'\n",
    "writer = SummaryWriter()\n",
    "batch_size = 128\n",
    "np.random.seed(42)\n",
    "num_classes = 5\n",
    "omniglot_dir = 'omniglot/'\n",
    "rtsd_dir = 'rtsd-r1/'"
   ]
  },
  {
   "cell_type": "code",
   "execution_count": 3,
   "metadata": {},
   "outputs": [],
   "source": [
    "if True:\n",
    "    classes = os.listdir(root_dir)\n",
    "    test_classes = np.random.choice(classes, size = int(0.1 * len(classes)), replace = False)\n",
    "    classes = [i for i in classes if i not in test_classes]\n",
    "    def fin_dir(cl):\n",
    "        return root_dir + cl + '/images/'\n",
    "elif False:\n",
    "    classes = []\n",
    "    for i in os.listdir(omniglot_dir):\n",
    "        for j in os.listdir(omniglot_dir + i):\n",
    "            classes.append(i + '/' + j)\n",
    "    test_classes = np.random.choice(classes, size = int(0.1 * len(classes)), replace = False)\n",
    "    classes = [i for i in classes if i not in test_classes]\n",
    "    def fin_dir(cl):\n",
    "        return omniglot_dir + cl + '/'\n",
    "else:\n",
    "    classes = os.listdir(rtsd_dir)\n",
    "    test_classes = np.random.choice(classes, size = int(0.1 * len(classes)), replace = False)\n",
    "    classes = [i for i in classes if i not in test_classes]\n",
    "    def fin_dir(cl):\n",
    "        return rtsd_dir + cl + '/'"
   ]
  },
  {
   "cell_type": "code",
   "execution_count": 4,
   "metadata": {},
   "outputs": [],
   "source": [
    "class MatchingNetwork(nn.Module):\n",
    "    def __init__(self, fce = True):\n",
    "        super(MatchingNetwork, self).__init__()\n",
    "        self.cnn = nn.Sequential(\n",
    "            nn.Conv2d(3, 64, 3, 1, 1),\n",
    "            nn.BatchNorm2d(64),\n",
    "            nn.ReLU(),\n",
    "            nn.MaxPool2d(2),\n",
    "            nn.Conv2d(64, 64, 3, 1, 1),\n",
    "            nn.BatchNorm2d(64),\n",
    "            nn.ReLU(),\n",
    "            nn.MaxPool2d(2),\n",
    "            nn.Conv2d(64, 128, 3, 1, 1),\n",
    "            nn.BatchNorm2d(128),\n",
    "            nn.ReLU(),\n",
    "            nn.MaxPool2d(2),\n",
    "            nn.Conv2d(128, 128, 3, 1, 1),\n",
    "            nn.BatchNorm2d(128),\n",
    "            nn.ReLU(),\n",
    "            nn.MaxPool2d(2))\n",
    "        self.fce = fce\n",
    "        self.size = 128\n",
    "        self.lstm = nn.LSTMCell(input_size = self.size, hidden_size = 2 * self.size)\n",
    "        self.sup_lstm = nn.LSTMCell(input_size = self.size, hidden_size = self.size)\n",
    "        self.reversed_sup_lstm = nn.LSTMCell(input_size = self.size, hidden_size = self.size)\n",
    "        self.dist = nn.CosineSimilarity(dim = 2)\n",
    "        self.softmax = nn.Softmax(dim = 1)\n",
    "        self.fc = nn.Sequential(\n",
    "            nn.Linear(2 * self.size + 1, self.size),\n",
    "            nn.Sigmoid(),\n",
    "            nn.Linear(self.size, 1))\n",
    "\n",
    "    def forward(self, support_set, inp):\n",
    "        support_set = support_set.view(-1, inp.shape[1], inp.shape[2], inp.shape[3])\n",
    "        sup = self.cnn(support_set)\n",
    "        sup = sup.view(-1, num_classes, self.size)\n",
    "        new_sup = Variable(torch.Tensor(torch.zeros(sup.shape))).cuda()\n",
    "        inp = self.cnn(inp).view(-1, self.size)\n",
    "        h_0 = inp\n",
    "        if self.fce:\n",
    "            for i in range(num_classes):\n",
    "                sup_h_0 = Variable(torch.zeros(sup.shape[0], self.size), requires_grad = False).cuda()\n",
    "                sup_c_0 = Variable(torch.zeros(sup.shape[0], self.size), requires_grad = False).cuda()\n",
    "                sup_rev_h_0 = Variable(torch.zeros(sup.shape[0], self.size), requires_grad = False).cuda()\n",
    "                sup_rev_c_0 = Variable(torch.zeros(sup.shape[0], self.size), requires_grad = False).cuda()\n",
    "                for j in range(i):\n",
    "                    sup_h_0, sup_c_0 = self.sup_lstm(sup[:, j], (sup_h_0, sup_c_0))\n",
    "                for j in range(num_classes - i - 1):\n",
    "                    sup_rev_h_0, sup_rev_c_0 = self.sup_lstm(sup[:, num_classes - j - 1], (sup_rev_h_0, sup_rev_c_0))\n",
    "                new_sup[:, i] = sup[:, i] + sup_h_0 + sup_rev_h_0\n",
    "            sup = new_sup\n",
    "            h_0 = Variable(torch.zeros(sup.shape[0], self.size), requires_grad = False).cuda()\n",
    "            c_0 = Variable(torch.zeros(sup.shape[0], 2 * self.size), requires_grad = False).cuda()\n",
    "            for i in range(20):\n",
    "                r_0 = self.softmax(torch.sum(sup * h_0.unsqueeze(1), dim = 2))\n",
    "                r_0 = torch.sum(r_0.unsqueeze(2) * sup, dim = 1)\n",
    "                h_0, c_0 = self.lstm(inp, (torch.cat([h_0, r_0], dim = 1), c_0))\n",
    "                h_0, _ = torch.split(h_0, self.size, dim = 1)\n",
    "                h_0 = h_0 + inp\n",
    "        diff = (sup - h_0.unsqueeze(1)).view(-1, self.size)\n",
    "        out = self.fc(torch.cat([torch.abs(diff), (diff) ** 2, self.dist(sup, h_0.unsqueeze(1)).view(-1, 1)], dim = 1))\n",
    "        out = out.view(-1, num_classes)\n",
    "        return out"
   ]
  },
  {
   "cell_type": "code",
   "execution_count": 5,
   "metadata": {},
   "outputs": [
    {
     "name": "stderr",
     "output_type": "stream",
     "text": [
      "100%|██████████| 180/180 [00:34<00:00,  5.16it/s]\n"
     ]
    }
   ],
   "source": [
    "images = []\n",
    "for cl in tqdm(classes):\n",
    "    images.append([])\n",
    "    for img_name in os.listdir(fin_dir(cl)):\n",
    "        img = np.array(Image.open(fin_dir(cl) + img_name).resize((28, 28)), dtype = 'float32') / 255\n",
    "        if not len(img.shape) == 3:\n",
    "            img = np.stack([img, img, img])\n",
    "        else:\n",
    "            img = img.transpose((2, 0, 1))\n",
    "        images[-1].append(img)"
   ]
  },
  {
   "cell_type": "code",
   "execution_count": 6,
   "metadata": {},
   "outputs": [
    {
     "name": "stderr",
     "output_type": "stream",
     "text": [
      "100%|██████████| 20/20 [00:03<00:00,  5.20it/s]\n"
     ]
    }
   ],
   "source": [
    "one_shot_images = []\n",
    "for cl in tqdm(test_classes):\n",
    "    one_shot_images.append([])\n",
    "    for img_name in os.listdir(fin_dir(cl)):\n",
    "        img = np.array(Image.open(fin_dir(cl) + img_name).resize((28, 28)), dtype = 'float32') / 255\n",
    "        if not len(img.shape) == 3:\n",
    "            img = np.stack([img, img, img])\n",
    "        else:\n",
    "            img = img.transpose((2, 0, 1))\n",
    "        one_shot_images[-1].append(img)"
   ]
  },
  {
   "cell_type": "code",
   "execution_count": 7,
   "metadata": {},
   "outputs": [],
   "source": [
    "class ImageDataset(Dataset):\n",
    "    def __init__(self, images):\n",
    "        self.images = images\n",
    "        self.n = len(images)\n",
    "        self.cur_class = 0\n",
    "        self.cur_img = 0\n",
    "        self.size = 0\n",
    "        for i in images:\n",
    "            self.size += len(i)\n",
    "        \n",
    "    def __len__(self):\n",
    "        return self.size\n",
    "        \n",
    "    def __getitem__(self, idx):\n",
    "        img = self.images[self.cur_class][self.cur_img]\n",
    "        ind = np.random.randint(0, self.n, size = num_classes)\n",
    "        if not self.cur_class in ind:\n",
    "            res = np.random.randint(0, num_classes)\n",
    "            ind[res] = self.cur_class\n",
    "        else:\n",
    "            res = np.where(ind == self.cur_class)[0][0]\n",
    "        sup = np.stack([self.images[a][np.random.randint(0, len(self.images[a]))] for a in ind])\n",
    "        self.cur_img += 1\n",
    "        if self.cur_img >= len(self.images[self.cur_class]):\n",
    "            self.cur_img = 0\n",
    "            self.cur_class = (self.cur_class + 1) % self.n\n",
    "        sample = {'img' : torch.from_numpy(img), 'support_set' : torch.from_numpy(sup), 'res' : int(res)}\n",
    "        return sample"
   ]
  },
  {
   "cell_type": "code",
   "execution_count": 8,
   "metadata": {},
   "outputs": [],
   "source": [
    "dataset = ImageDataset(images)\n",
    "dataloader = DataLoader(dataset, batch_size = batch_size)\n",
    "one_shot_dataset = ImageDataset(one_shot_images)\n",
    "one_shot_dataloader = DataLoader(one_shot_dataset, batch_size = batch_size)"
   ]
  },
  {
   "cell_type": "code",
   "execution_count": 9,
   "metadata": {},
   "outputs": [],
   "source": [
    "model = MatchingNetwork(False)\n",
    "model.cuda()\n",
    "coef = 0.0"
   ]
  },
  {
   "cell_type": "code",
   "execution_count": null,
   "metadata": {},
   "outputs": [
    {
     "name": "stderr",
     "output_type": "stream",
     "text": [
      "accuracy = 0.844424, loss = 0.441546:  28%|██▊       | 227/800 [2:01:29<5:06:41, 32.11s/it]"
     ]
    }
   ],
   "source": [
    "sgd = torch.optim.Adam(model.parameters(), weight_decay = coef)\n",
    "criterion = nn.CrossEntropyLoss()\n",
    "t = trange(800)\n",
    "for i in t:\n",
    "    model.train()\n",
    "    sum_loss = 0\n",
    "    acc = 0\n",
    "    for j, batch in enumerate(dataloader):\n",
    "        target = Variable(batch['res']).cuda()\n",
    "        img = batch['img']\n",
    "        support_set = batch['support_set']\n",
    "        y_pred = model.forward(Variable(support_set).cuda(), Variable(img).cuda())\n",
    "        loss = criterion(y_pred, target)\n",
    "        _, x = torch.max(y_pred, dim = 1)\n",
    "        sum_loss += loss\n",
    "        acc += torch.sum(x == target).float() / target.shape[0]\n",
    "        t.set_description('accuracy = %g, loss = %g' % (acc / (j + 1), loss))\n",
    "        sgd.zero_grad()\n",
    "        loss.backward()\n",
    "        sgd.step()\n",
    "    writer.add_scalar('cross entropy', sum_loss / (j + 1), i)\n",
    "    writer.add_scalar('train accuracy', acc / (j + 1), i)\n",
    "    model.eval()\n",
    "    one_shot_acc = 0\n",
    "    for j, batch in enumerate(one_shot_dataloader):\n",
    "        target = Variable(batch['res']).cuda()\n",
    "        img = batch['img']\n",
    "        support_set = batch['support_set']\n",
    "        y_pred = model.forward(Variable(support_set).cuda(), Variable(img).cuda())\n",
    "        _, x = torch.max(y_pred, dim = 1)\n",
    "        one_shot_acc += torch.sum(x == target).float() / target.shape[0]\n",
    "    writer.add_scalar('one shot accuracy', one_shot_acc / (j + 1), i)"
   ]
  },
  {
   "cell_type": "code",
   "execution_count": 15,
   "metadata": {},
   "outputs": [
    {
     "name": "stderr",
     "output_type": "stream",
     "text": [
      "/home/david/.local/lib/python3.6/site-packages/torch/serialization.py:159: UserWarning: Couldn't retrieve source code for container of type MatchingNetwork. It won't be checked for correctness upon loading.\n",
      "  \"type \" + obj.__name__ + \". It won't be checked \"\n"
     ]
    }
   ],
   "source": [
    "torch.save(model, 'MatchingNetwork2')"
   ]
  },
  {
   "cell_type": "code",
   "execution_count": null,
   "metadata": {},
   "outputs": [],
   "source": []
  }
 ],
 "metadata": {
  "kernelspec": {
   "display_name": "Python 3",
   "language": "python",
   "name": "python3"
  },
  "language_info": {
   "codemirror_mode": {
    "name": "ipython",
    "version": 3
   },
   "file_extension": ".py",
   "mimetype": "text/x-python",
   "name": "python",
   "nbconvert_exporter": "python",
   "pygments_lexer": "ipython3",
   "version": "3.6.4"
  }
 },
 "nbformat": 4,
 "nbformat_minor": 2
}
